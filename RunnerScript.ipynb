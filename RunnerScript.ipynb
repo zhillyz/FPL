{
 "cells": [
  {
   "cell_type": "code",
   "execution_count": 1,
   "metadata": {},
   "outputs": [],
   "source": [
    "from data_collection import FPLData\n",
    "data_getter = FPLData()"
   ]
  },
  {
   "cell_type": "code",
   "execution_count": 11,
   "metadata": {},
   "outputs": [],
   "source": [
    "import pandas\n",
    "df = pandas.DataFrame.from_dict(data_getter.players).fillna(0)"
   ]
  },
  {
   "cell_type": "code",
   "execution_count": 3,
   "metadata": {},
   "outputs": [
    {
     "data": {
      "text/plain": [
       "{'chance_of_playing_next_round': 100,\n",
       " 'chance_of_playing_this_round': 100,\n",
       " 'code': 449429,\n",
       " 'cost_change_event': 0,\n",
       " 'cost_change_event_fall': 0,\n",
       " 'cost_change_start': 0,\n",
       " 'cost_change_start_fall': 0,\n",
       " 'dreamteam_count': 0,\n",
       " 'element_type': 2,\n",
       " 'ep_next': '0.2',\n",
       " 'ep_this': '0.2',\n",
       " 'event_points': 0,\n",
       " 'first_name': 'Jacob',\n",
       " 'form': '0.2',\n",
       " 'id': 270,\n",
       " 'in_dreamteam': False,\n",
       " 'news': '',\n",
       " 'news_added': '2024-11-22T17:30:09.014564Z',\n",
       " 'now_cost': 40,\n",
       " 'photo': '449429.jpg',\n",
       " 'points_per_game': '1.5',\n",
       " 'second_name': 'Greaves',\n",
       " 'selected_by_percent': '3.8',\n",
       " 'special': False,\n",
       " 'squad_number': None,\n",
       " 'status': 'a',\n",
       " 'team': 10,\n",
       " 'team_code': 40,\n",
       " 'total_points': 12,\n",
       " 'transfers_in': 716120,\n",
       " 'transfers_in_event': 540,\n",
       " 'transfers_out': 380888,\n",
       " 'transfers_out_event': 376,\n",
       " 'value_form': '0.0',\n",
       " 'value_season': '3.0',\n",
       " 'web_name': 'Greaves',\n",
       " 'region': 241,\n",
       " 'minutes': 720,\n",
       " 'goals_scored': 0,\n",
       " 'assists': 0,\n",
       " 'clean_sheets': 1,\n",
       " 'goals_conceded': 15,\n",
       " 'own_goals': 0,\n",
       " 'penalties_saved': 0,\n",
       " 'penalties_missed': 0,\n",
       " 'yellow_cards': 2,\n",
       " 'red_cards': 0,\n",
       " 'saves': 0,\n",
       " 'bonus': 0,\n",
       " 'bps': 58,\n",
       " 'influence': '179.8',\n",
       " 'creativity': '5.9',\n",
       " 'threat': '63.0',\n",
       " 'ict_index': '24.9',\n",
       " 'starts': 8,\n",
       " 'expected_goals': '0.43',\n",
       " 'expected_assists': '0.02',\n",
       " 'expected_goal_involvements': '0.45',\n",
       " 'expected_goals_conceded': '17.34',\n",
       " 'influence_rank': 161,\n",
       " 'influence_rank_type': 64,\n",
       " 'creativity_rank': 384,\n",
       " 'creativity_rank_type': 129,\n",
       " 'threat_rank': 199,\n",
       " 'threat_rank_type': 49,\n",
       " 'ict_index_rank': 244,\n",
       " 'ict_index_rank_type': 76,\n",
       " 'corners_and_indirect_freekicks_order': None,\n",
       " 'corners_and_indirect_freekicks_text': '',\n",
       " 'direct_freekicks_order': None,\n",
       " 'direct_freekicks_text': '',\n",
       " 'penalties_order': None,\n",
       " 'penalties_text': '',\n",
       " 'expected_goals_per_90': 0.05,\n",
       " 'saves_per_90': 0.0,\n",
       " 'expected_assists_per_90': 0.0,\n",
       " 'expected_goal_involvements_per_90': 0.05,\n",
       " 'expected_goals_conceded_per_90': 2.17,\n",
       " 'goals_conceded_per_90': 1.88,\n",
       " 'now_cost_rank': 637,\n",
       " 'now_cost_rank_type': 186,\n",
       " 'form_rank': 361,\n",
       " 'form_rank_type': 120,\n",
       " 'points_per_game_rank': 310,\n",
       " 'points_per_game_rank_type': 101,\n",
       " 'selected_rank': 92,\n",
       " 'selected_rank_type': 35,\n",
       " 'starts_per_90': 1.0,\n",
       " 'clean_sheets_per_90': 0.12}"
      ]
     },
     "execution_count": 3,
     "metadata": {},
     "output_type": "execute_result"
    }
   ],
   "source": [
    "data_getter.events[14]\n",
    "# data_getter.players[328]"
   ]
  }
 ],
 "metadata": {
  "kernelspec": {
   "display_name": "Python 3",
   "language": "python",
   "name": "python3"
  },
  "language_info": {
   "codemirror_mode": {
    "name": "ipython",
    "version": 3
   },
   "file_extension": ".py",
   "mimetype": "text/x-python",
   "name": "python",
   "nbconvert_exporter": "python",
   "pygments_lexer": "ipython3",
   "version": "3.10.12"
  }
 },
 "nbformat": 4,
 "nbformat_minor": 2
}

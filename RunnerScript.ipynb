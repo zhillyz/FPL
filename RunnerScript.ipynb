{
 "cells": [
  {
   "cell_type": "code",
   "execution_count": 1,
   "metadata": {},
   "outputs": [
    {
     "name": "stderr",
     "output_type": "stream",
     "text": [
      "/home/zhillyz/fpl/data_collection.py:75: FutureWarning: errors='ignore' is deprecated and will raise in a future version. Use to_numeric without passing `errors` and catch exceptions explicitly instead\n",
      "  df[df.columns] = df[df.columns].apply(pandas.to_numeric,errors='ignore')\n",
      "/home/zhillyz/fpl/data_collection.py:75: FutureWarning: errors='ignore' is deprecated and will raise in a future version. Use to_numeric without passing `errors` and catch exceptions explicitly instead\n",
      "  df[df.columns] = df[df.columns].apply(pandas.to_numeric,errors='ignore')\n",
      "/home/zhillyz/fpl/data_collection.py:75: FutureWarning: errors='ignore' is deprecated and will raise in a future version. Use to_numeric without passing `errors` and catch exceptions explicitly instead\n",
      "  df[df.columns] = df[df.columns].apply(pandas.to_numeric,errors='ignore')\n",
      "/home/zhillyz/fpl/data_collection.py:75: FutureWarning: errors='ignore' is deprecated and will raise in a future version. Use to_numeric without passing `errors` and catch exceptions explicitly instead\n",
      "  df[df.columns] = df[df.columns].apply(pandas.to_numeric,errors='ignore')\n",
      "/home/zhillyz/fpl/data_collection.py:75: FutureWarning: errors='ignore' is deprecated and will raise in a future version. Use to_numeric without passing `errors` and catch exceptions explicitly instead\n",
      "  df[df.columns] = df[df.columns].apply(pandas.to_numeric,errors='ignore')\n"
     ]
    }
   ],
   "source": [
    "from data_collection import CurrentSeasonalFPLData, HistoricFPLData\n",
    "features = ['points_per_game','influence','expected_goal_involvements','total_points','creativity','bonus','ict_index',]\n",
    "\"\"\"\n",
    "Possible feature names:\n",
    "['can_transact', 'can_select', 'chance_of_playing_next_round', 'chance_of_playing_this_round', 'code', 'cost_change_event',\n",
    "'cost_change_event_fall', 'cost_change_start', 'cost_change_start_fall', 'dreamteam_count', 'element_type', 'ep_next',\n",
    "'ep_this', 'event_points', 'first_name', 'form', 'id', 'in_dreamteam', 'news', 'news_added', 'now_cost', 'photo', 'points_per_game',\n",
    "'removed', 'second_name', 'selected_by_percent', 'special', 'squad_number', 'status', 'team', 'team_code', 'total_points',\n",
    "'transfers_in', 'transfers_in_event', 'transfers_out', 'transfers_out_event', 'value_form', 'value_season', 'web_name', 'region',\n",
    "'team_join_date', 'birth_date', 'has_temporary_code', 'opta_code', 'minutes', 'goals_scored', 'assists', 'clean_sheets',\n",
    "'goals_conceded', 'own_goals', 'penalties_saved', 'penalties_missed', 'yellow_cards', 'red_cards', 'saves', 'bonus', 'bps', 'influence',\n",
    "'creativity', 'threat', 'ict_index', 'starts', 'expected_goals', 'expected_assists', 'expected_goal_involvements', 'expected_goals_conceded',\n",
    "'mng_win', 'mng_draw', 'mng_loss', 'mng_underdog_win', 'mng_underdog_draw', 'mng_clean_sheets', 'mng_goals_scored', 'influence_rank',\n",
    "'influence_rank_type', 'creativity_rank', 'creativity_rank_type', 'threat_rank', 'threat_rank_type', 'ict_index_rank', 'ict_index_rank_type',\n",
    "'corners_and_indirect_freekicks_order', 'corners_and_indirect_freekicks_text', 'direct_freekicks_order', 'direct_freekicks_text', 'penalties_order',\n",
    "'penalties_text', 'expected_goals_per_90', 'saves_per_90', 'expected_assists_per_90', 'expected_goal_involvements_per_90',\n",
    "'expected_goals_conceded_per_90', 'goals_conceded_per_90', 'now_cost_rank', 'now_cost_rank_type', 'form_rank', 'form_rank_type',\n",
    "'points_per_game_rank', 'points_per_game_rank_type', 'selected_rank', 'selected_rank_type', 'starts_per_90', 'clean_sheets_per_90']\n",
    "\"\"\"\n",
    "data_getter = CurrentSeasonalFPLData(features=features)\n",
    "test = HistoricFPLData(data_getter,lookback=3,future_points_weeks=3)"
   ]
  },
  {
   "cell_type": "code",
   "execution_count": 2,
   "metadata": {},
   "outputs": [
    {
     "name": "stdout",
     "output_type": "stream",
     "text": [
      "MAE: 1.675446224256293\n"
     ]
    }
   ],
   "source": [
    "from sklearn.pipeline import make_pipeline\n",
    "from sklearn.model_selection import train_test_split\n",
    "from sklearn.metrics import mean_absolute_error\n",
    "from sklearn.model_selection import train_test_split\n",
    "from sklearn.metrics import mean_absolute_error\n",
    "from sklearn.ensemble import RandomForestRegressor\n",
    "from sklearn.preprocessing import StandardScaler\n",
    "\n",
    "X_train,Y_train = test.data\n",
    "X_train, X_val, Y_train, y_val = train_test_split(X_train, Y_train, test_size=0.2, random_state=37)\n",
    "model = make_pipeline(StandardScaler(), RandomForestRegressor(n_estimators=100))\n",
    "model.fit(X_train, Y_train)\n",
    "\n",
    "preds = model.predict(X_val)\n",
    "print(\"MAE:\", mean_absolute_error(y_val, preds))"
   ]
  },
  {
   "cell_type": "code",
   "execution_count": 3,
   "metadata": {},
   "outputs": [
    {
     "name": "stdout",
     "output_type": "stream",
     "text": [
      "        web_name now_cost element_type  predicted_future_points\n",
      "74       O.Dango       48            3                     7.02\n",
      "79        Senesi       46            2                     3.44\n",
      "110        Wissa       65            4                     4.37\n",
      "207       Mateta       78            4                     4.63\n",
      "248         Leno       50            1                     6.03\n",
      "117   Buonanotte       45            3                     5.59\n",
      "326       Konaté       53            2                     7.24\n",
      "625     Gündogan       63            3                     5.94\n",
      "372     Garnacho       59            3                     4.74\n",
      "389      Zirkzee       65            4                     4.01\n",
      "392       Barnes       59            3                    10.85\n",
      "409   Livramento       46            2                     3.61\n",
      "443         Sels       51            1                     6.19\n",
      "573   Milenković       51            2                     4.45\n",
      "388  Wan-Bissaka       45            2                     5.04\n",
      "Total cost of selected players: 82.4\n",
      "Total predicted points: 82.4\n"
     ]
    },
    {
     "name": "stderr",
     "output_type": "stream",
     "text": [
      "/tmp/ipykernel_215853/3359898147.py:14: FutureWarning: Downcasting object dtype arrays on .fillna, .ffill, .bfill is deprecated and will change in a future version. Call result.infer_objects(copy=False) instead. To opt-in to the future behavior, set `pd.set_option('future.no_silent_downcasting', True)`\n",
      "  predict_data = predict_data.fillna(0)\n"
     ]
    }
   ],
   "source": [
    "\"\"\" Run this for best Wildcard team.\"\"\"\n",
    "\n",
    "import numpy as np\n",
    "import pandas as pd\n",
    "from scipy.optimize import linprog\n",
    "\n",
    "# Step 1: Predict Future Points for All Players\n",
    "# Assuming 'model' is your trained model, and 'players_df' is a dataframe with player features\n",
    "# Add predictions to your player dataframe\n",
    "players_df = data_getter.processed_data.copy()\n",
    "predict_data = players_df[data_getter.features]\n",
    "\n",
    "# Ensure no NaN values in the features\n",
    "predict_data = predict_data.fillna(0)\n",
    "\n",
    "players_df['predicted_future_points'] = model.predict(predict_data)\n",
    "\n",
    "# Step 2: Set Constraints\n",
    "\n",
    "# Total budget (assuming the total budget is 100.0)\n",
    "budget = 100  # Total budget in FPL units\n",
    "\n",
    "# Player positions constraints (e.g., 2 goalkeepers, 5 defenders, 5 midfielders, 3 forwards)\n",
    "position_constraints = {\n",
    "    1:2,\n",
    "    2:5,\n",
    "    3:5,\n",
    "    4:3,\n",
    "}\n",
    "\n",
    "# Assuming players_df has columns: 'id', 'position', 'cost', 'predicted_future_points'\n",
    "# Step 3: Optimize the Team Selection\n",
    "\n",
    "# Define cost and predicted points as arrays for optimization\n",
    "costs = players_df['now_cost'].values / 10.0  # Convert cost from 0.1 million to actual cost (in millions)\n",
    "future_points = players_df['predicted_future_points'].values\n",
    "positions = players_df['element_type'].values\n",
    "\n",
    "# Number of players to select (e.g., 15 players for an FPL team)\n",
    "num_players = 15\n",
    "\n",
    "# Define optimization coefficients (we want to maximize future points)\n",
    "c = -future_points  # We negate because linprog minimizes by default\n",
    "\n",
    "# Constraints:\n",
    "# 1. Total cost must not exceed the budget\n",
    "# 2. Positional constraints (e.g., 2 goalkeepers, 5 defenders, etc.)\n",
    "A_eq = []\n",
    "b_eq = []\n",
    "for position, max_count in position_constraints.items():\n",
    "    # Create a constraint matrix for each position\n",
    "    position_indices = (positions == position)\n",
    "    A_eq.append(position_indices.astype(int))  # Make sure the number of players for each position doesn't exceed max_count\n",
    "    b_eq.append(max_count)\n",
    "\n",
    "# 3. Select exactly 15 players\n",
    "A_eq.append(np.ones(len(players_df)))  # Ensure we select exactly 15 players\n",
    "b_eq.append(num_players)\n",
    "\n",
    "# Step 4: Solve the optimization problem using linprog\n",
    "result = linprog(c, A_eq=np.array(A_eq), b_eq=np.array(b_eq), bounds=[(0, 1)] * len(players_df), method='highs')\n",
    "\n",
    "# Step 5: Check for errors and Get the selected players\n",
    "if result.success:\n",
    "    selected_player_indices = np.where(result.x >= 0.5)[0]  # Get the players with a value >= 0.5 (i.e., selected)\n",
    "\n",
    "    # Step 6: Get the player IDs and their details\n",
    "    selected_players = players_df.iloc[selected_player_indices]\n",
    "    print(selected_players[['web_name', 'now_cost', 'element_type', 'predicted_future_points']])\n",
    "\n",
    "    # Total cost of the selected players\n",
    "    total_cost = selected_players['now_cost'].sum() / 10  # Convert cost from 0.1 million to actual cost\n",
    "    total_points = selected_players['predicted_future_points'].sum()\n",
    "    print(f\"Total cost of selected players: {total_cost}\")\n",
    "    print(f\"Total predicted points: {total_cost}\")\n",
    "else:\n",
    "    print(\"Optimization failed: \", result.message)\n",
    "    # Debugging: Check if total cost exceeds budget or if other issues exist\n",
    "    print(f\"Total cost of all players: {players_df['now_cost'].sum() / 10}\")\n",
    "    print(f\"Number of players available: {len(players_df)}\")\n",
    "    print(f\"Positional constraints: {position_constraints}\")\n"
   ]
  },
  {
   "cell_type": "code",
   "execution_count": 4,
   "metadata": {},
   "outputs": [],
   "source": [
    "current_team_ids = [383,350,88,255,366,328,402,99,321,401,58,521,71,270,295]  # your 15-player team as player IDs\n",
    "budget_left = 0.8        # remaining budget from original 1000 (or 100.0)\n",
    "\n",
    "# Get your full player pool with predicted future points\n",
    "all_players = players_df.copy()\n",
    "all_players['predicted'] = model.predict(all_players[data_getter.features])\n",
    "\n",
    "# Get your current team details\n",
    "current_team = all_players[all_players['id'].isin(current_team_ids)]\n",
    "\n",
    "best_transfer = None\n",
    "best_gain = 0\n",
    "\n",
    "# Loop through all current team players\n",
    "for i, old_player in current_team.iterrows():\n",
    "    old_pos = old_player['element_type']\n",
    "    old_cost = old_player['now_cost']\n",
    "    \n",
    "    # Look at all possible replacements in same position\n",
    "    candidates = all_players[\n",
    "        (all_players['element_type'] == old_pos) &\n",
    "        (~all_players['id'].isin(current_team_ids))  # not already owned\n",
    "    ]\n",
    "    \n",
    "    for j, new_player in candidates.iterrows():\n",
    "        cost_diff = new_player['now_cost'] - old_cost\n",
    "        if cost_diff <= budget_left:\n",
    "            # Create new team with the candidate transfer\n",
    "            temp_team = current_team.copy()\n",
    "            temp_team = temp_team[temp_team['id'] != old_player['id']]\n",
    "            temp_team = pd.concat([temp_team, new_player.to_frame().T])\n",
    "            \n",
    "            team_points = temp_team['predicted'].sum()\n",
    "            \n",
    "            # Track the best one\n",
    "            if team_points > best_gain:\n",
    "                best_gain = team_points\n",
    "                best_transfer = (old_player, new_player)\n",
    "best_transfer"
   ]
  },
  {
   "cell_type": "code",
   "execution_count": 6,
   "metadata": {},
   "outputs": [
    {
     "data": {
      "text/plain": [
       "(id                                  71\n",
       " now_cost                            60\n",
       " element_type                         3\n",
       " web_name                      Kluivert\n",
       " points_per_game                    5.2\n",
       " influence                        680.4\n",
       " expected_goal_involvements       12.71\n",
       " total_points                       147\n",
       " creativity                       591.6\n",
       " bonus                               14\n",
       " ict_index                        196.6\n",
       " predicted_future_points           0.11\n",
       " predicted                         0.11\n",
       " Name: 71, dtype: object,\n",
       " id                               392\n",
       " now_cost                          59\n",
       " element_type                       3\n",
       " web_name                      Barnes\n",
       " points_per_game                  4.2\n",
       " influence                      464.2\n",
       " expected_goal_involvements      8.93\n",
       " total_points                     113\n",
       " creativity                     282.2\n",
       " bonus                             13\n",
       " ict_index                      128.0\n",
       " predicted_future_points        10.85\n",
       " predicted                      10.85\n",
       " Name: 392, dtype: object)"
      ]
     },
     "execution_count": 6,
     "metadata": {},
     "output_type": "execute_result"
    }
   ],
   "source": [
    "best_transfer"
   ]
  }
 ],
 "metadata": {
  "kernelspec": {
   "display_name": "Python 3",
   "language": "python",
   "name": "python3"
  },
  "language_info": {
   "codemirror_mode": {
    "name": "ipython",
    "version": 3
   },
   "file_extension": ".py",
   "mimetype": "text/x-python",
   "name": "python",
   "nbconvert_exporter": "python",
   "pygments_lexer": "ipython3",
   "version": "3.10.12"
  }
 },
 "nbformat": 4,
 "nbformat_minor": 2
}

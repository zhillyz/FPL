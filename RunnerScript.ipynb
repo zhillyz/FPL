{
 "cells": [
  {
   "cell_type": "code",
   "execution_count": 1,
   "metadata": {},
   "outputs": [],
   "source": [
    "from data_collection import FPLData\n",
    "data_getter = FPLData()"
   ]
  },
  {
   "cell_type": "code",
   "execution_count": 11,
   "metadata": {},
   "outputs": [],
   "source": [
    "import pandas\n",
    "df = pandas.DataFrame.from_dict(data_getter.players).fillna(0)"
   ]
  },
  {
   "cell_type": "code",
   "execution_count": 15,
   "metadata": {},
   "outputs": [
    {
     "data": {
      "text/plain": [
       "{'chance_of_playing_next_round': 100,\n",
       " 'chance_of_playing_this_round': 100,\n",
       " 'code': 222531,\n",
       " 'cost_change_event': 0,\n",
       " 'cost_change_event_fall': 0,\n",
       " 'cost_change_start': -2,\n",
       " 'cost_change_start_fall': 2,\n",
       " 'dreamteam_count': 1,\n",
       " 'element_type': 3,\n",
       " 'ep_next': '3.4',\n",
       " 'ep_this': '3.4',\n",
       " 'event_points': 13,\n",
       " 'first_name': 'Morgan',\n",
       " 'form': '3.4',\n",
       " 'id': 433,\n",
       " 'in_dreamteam': False,\n",
       " 'news': '',\n",
       " 'news_added': '2024-11-23T22:30:08.545151Z',\n",
       " 'now_cost': 63,\n",
       " 'photo': '222531.jpg',\n",
       " 'points_per_game': '3.4',\n",
       " 'second_name': 'Gibbs-White',\n",
       " 'selected_by_percent': '1.0',\n",
       " 'special': False,\n",
       " 'squad_number': None,\n",
       " 'status': 'a',\n",
       " 'team': 16,\n",
       " 'team_code': 17,\n",
       " 'total_points': 37,\n",
       " 'transfers_in': 188018,\n",
       " 'transfers_in_event': 1322,\n",
       " 'transfers_out': 555562,\n",
       " 'transfers_out_event': 252,\n",
       " 'value_form': '0.5',\n",
       " 'value_season': '5.9',\n",
       " 'web_name': 'Gibbs-White',\n",
       " 'region': 241,\n",
       " 'minutes': 844,\n",
       " 'goals_scored': 2,\n",
       " 'assists': 1,\n",
       " 'clean_sheets': 4,\n",
       " 'goals_conceded': 11,\n",
       " 'own_goals': 0,\n",
       " 'penalties_saved': 0,\n",
       " 'penalties_missed': 0,\n",
       " 'yellow_cards': 3,\n",
       " 'red_cards': 1,\n",
       " 'saves': 0,\n",
       " 'bonus': 5,\n",
       " 'bps': 144,\n",
       " 'influence': '197.0',\n",
       " 'creativity': '271.7',\n",
       " 'threat': '248.0',\n",
       " 'ict_index': '71.7',\n",
       " 'starts': 11,\n",
       " 'expected_goals': '1.44',\n",
       " 'expected_assists': '1.62',\n",
       " 'expected_goal_involvements': '3.06',\n",
       " 'expected_goals_conceded': '10.05',\n",
       " 'influence_rank': 145,\n",
       " 'influence_rank_type': 54,\n",
       " 'creativity_rank': 41,\n",
       " 'creativity_rank_type': 33,\n",
       " 'threat_rank': 46,\n",
       " 'threat_rank_type': 29,\n",
       " 'ict_index_rank': 49,\n",
       " 'ict_index_rank_type': 32,\n",
       " 'corners_and_indirect_freekicks_order': None,\n",
       " 'corners_and_indirect_freekicks_text': '',\n",
       " 'direct_freekicks_order': 4,\n",
       " 'direct_freekicks_text': '',\n",
       " 'penalties_order': 2,\n",
       " 'penalties_text': '',\n",
       " 'expected_goals_per_90': 0.15,\n",
       " 'saves_per_90': 0.0,\n",
       " 'expected_assists_per_90': 0.17,\n",
       " 'expected_goal_involvements_per_90': 0.32,\n",
       " 'expected_goals_conceded_per_90': 1.07,\n",
       " 'goals_conceded_per_90': 1.17,\n",
       " 'now_cost_rank': 54,\n",
       " 'now_cost_rank_type': 32,\n",
       " 'form_rank': 65,\n",
       " 'form_rank_type': 29,\n",
       " 'points_per_game_rank': 85,\n",
       " 'points_per_game_rank_type': 40,\n",
       " 'selected_rank': 204,\n",
       " 'selected_rank_type': 60,\n",
       " 'starts_per_90': 1.17,\n",
       " 'clean_sheets_per_90': 0.43}"
      ]
     },
     "execution_count": 15,
     "metadata": {},
     "output_type": "execute_result"
    }
   ],
   "source": [
    "data_getter.events[14]\n",
    "data_getter.players[433]#['points']#['transfers_in']\n",
    "# data_getter.players[182]#['points']#['transfers_in']"
   ]
  }
 ],
 "metadata": {
  "kernelspec": {
   "display_name": "Python 3",
   "language": "python",
   "name": "python3"
  },
  "language_info": {
   "codemirror_mode": {
    "name": "ipython",
    "version": 3
   },
   "file_extension": ".py",
   "mimetype": "text/x-python",
   "name": "python",
   "nbconvert_exporter": "python",
   "pygments_lexer": "ipython3",
   "version": "3.10.12"
  }
 },
 "nbformat": 4,
 "nbformat_minor": 2
}
